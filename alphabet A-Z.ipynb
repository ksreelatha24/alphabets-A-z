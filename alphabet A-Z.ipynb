{
 "cells": [
  {
   "cell_type": "code",
   "execution_count": null,
   "id": "5f2851c6",
   "metadata": {},
   "outputs": [],
   "source": [
    "#create a pattern A-z\n"
   ]
  },
  {
   "cell_type": "code",
   "execution_count": 130,
   "id": "f8ad0dc7",
   "metadata": {},
   "outputs": [
    {
     "name": "stdout",
     "output_type": "stream",
     "text": [
      "*****\n",
      "*   *\n",
      "*****\n",
      "*   *\n",
      "*   *\n"
     ]
    }
   ],
   "source": [
    "a=1\n",
    "while a<=5:\n",
    "    if a==1:\n",
    "        print(\"*****\")\n",
    "    elif a==2:\n",
    "        print(\"*   *\")\n",
    "    elif a==3:\n",
    "        print('*****')\n",
    "    elif a==4:\n",
    "        print(\"*   *\")\n",
    "    elif a==5:\n",
    "        print(\"*   *\")\n",
    "    a=a+1      "
   ]
  },
  {
   "cell_type": "code",
   "execution_count": 10,
   "id": "23af0d3d",
   "metadata": {},
   "outputs": [
    {
     "name": "stdout",
     "output_type": "stream",
     "text": [
      "* * * \n",
      "*   *\n",
      "*   *\n",
      "* *\n",
      "*   *\n",
      "*   *\n",
      "* * * \n"
     ]
    }
   ],
   "source": [
    "a=1\n",
    "while a<=7:\n",
    "    if a==1:\n",
    "        print(\"* * * \")\n",
    "    elif a==2:\n",
    "        print(\"*   *\")\n",
    "    elif a==3:\n",
    "        print(\"*   *\")\n",
    "    elif a==4:\n",
    "        print(\"* *\")\n",
    "    elif a==5:\n",
    "        print(\"*   *\")\n",
    "    elif a==6:\n",
    "        print(\"*   *\")\n",
    "    elif a==7:\n",
    "        print(\"* * * \")\n",
    "    a=a+1"
   ]
  },
  {
   "cell_type": "code",
   "execution_count": 11,
   "id": "ec399622",
   "metadata": {},
   "outputs": [
    {
     "name": "stdout",
     "output_type": "stream",
     "text": [
      "  ****\n",
      "*  \n",
      "*  \n",
      "*  \n",
      "*\n",
      "  ****\n"
     ]
    }
   ],
   "source": [
    "a=1\n",
    "while a<=6:\n",
    "    if a==1:\n",
    "        print(\"  ****\")\n",
    "    elif a==2:\n",
    "        print(\"*  \")\n",
    "    elif a==3:\n",
    "        print(\"*  \")\n",
    "    elif a==3:\n",
    "        print(\"* * \")\n",
    "    elif a==4:\n",
    "        print(\"*  \")\n",
    "    elif a==5:\n",
    "        print(\"*\")\n",
    "    elif a==6:\n",
    "        print(\"  ****\")\n",
    "    a=a+1    \n",
    "    "
   ]
  },
  {
   "cell_type": "code",
   "execution_count": 15,
   "id": "1d6f75d7",
   "metadata": {},
   "outputs": [
    {
     "name": "stdout",
     "output_type": "stream",
     "text": [
      "****\n",
      "*   *\n",
      "*   *\n",
      "*   *\n",
      "*   *\n",
      "****\n"
     ]
    }
   ],
   "source": [
    "a=1\n",
    "while a<=6:\n",
    "    if a==1:\n",
    "        print(\"****\")\n",
    "    if a==2:\n",
    "        print(\"*   *\")\n",
    "    if a==3:\n",
    "        print(\"*   *\")\n",
    "    if a==4:\n",
    "        print(\"*   *\")\n",
    "    if a==5:\n",
    "        print('*   *')\n",
    "    if a==6:\n",
    "        print(\"****\")\n",
    "    a=a+1    \n",
    "  "
   ]
  },
  {
   "cell_type": "code",
   "execution_count": 2,
   "id": "d3c7c2e3",
   "metadata": {},
   "outputs": [
    {
     "name": "stdout",
     "output_type": "stream",
     "text": [
      "*****\n",
      "*\n",
      "*\n",
      "*****\n",
      "*\n",
      "*\n",
      "*****\n"
     ]
    }
   ],
   "source": [
    "a=1\n",
    "while a<=7:\n",
    "    if a==1:\n",
    "        print(\"*****\")\n",
    "    if a==2:\n",
    "        print(\"*\")\n",
    "    if a==2:\n",
    "        print(\"*\")\n",
    "    if a==3:\n",
    "        print(\"*****\")\n",
    "    if a==4:\n",
    "        print(\"*\")\n",
    "    if a==5:\n",
    "        print(\"*\")\n",
    "    if a==6:\n",
    "        print(\"*****\")\n",
    "    a=a+1"
   ]
  },
  {
   "cell_type": "code",
   "execution_count": 3,
   "id": "1a19276c",
   "metadata": {},
   "outputs": [
    {
     "name": "stdout",
     "output_type": "stream",
     "text": [
      "*****\n",
      "*\n",
      "*\n",
      "*****\n",
      "*\n",
      "*\n",
      "*\n"
     ]
    }
   ],
   "source": [
    "a=1\n",
    "while a<=7:\n",
    "    if a==1:\n",
    "        print(\"*****\")\n",
    "    if a==2:\n",
    "        print(\"*\")\n",
    "    if a==3:\n",
    "        print(\"*\")\n",
    "    if a==4:\n",
    "        print(\"*****\")\n",
    "    if a==5:\n",
    "        print(\"*\")\n",
    "    if a==6:\n",
    "        print(\"*\")\n",
    "    if a==7:\n",
    "        print(\"*\")\n",
    "    a=a+1"
   ]
  },
  {
   "cell_type": "code",
   "execution_count": 32,
   "id": "62e70dbc",
   "metadata": {},
   "outputs": [
    {
     "name": "stdout",
     "output_type": "stream",
     "text": [
      "* * *  *\n",
      "*      *\n",
      "*\n",
      "*  *  *\n",
      "*     *\n",
      "*     *\n",
      "* * * * \n"
     ]
    }
   ],
   "source": [
    "a=1\n",
    "while a<=7:\n",
    "    if a==1:\n",
    "        print(\"* * *  *\")\n",
    "    if a==2:\n",
    "        print(\"*      *\")\n",
    "    if a==3:\n",
    "        print(\"*\")\n",
    "    if a==4:\n",
    "        print(\"*  *  *\")\n",
    "    if a==5:\n",
    "        print(\"*     *\")\n",
    "    if a==6:\n",
    "        print(\"*     *\")\n",
    "    if a==7:\n",
    "        print(\"* * * * \")\n",
    "    a=a+1"
   ]
  },
  {
   "cell_type": "code",
   "execution_count": 40,
   "id": "1be23f22",
   "metadata": {},
   "outputs": [
    {
     "name": "stdout",
     "output_type": "stream",
     "text": [
      "*      *\n",
      "*      *\n",
      "*      *\n",
      "********\n",
      "*      *\n",
      "*      *\n",
      "*      * \n"
     ]
    }
   ],
   "source": [
    "a=1\n",
    "while a<=7:\n",
    "    if a==1:\n",
    "        print(\"*      *\")\n",
    "    if a==2:\n",
    "        print(\"*      *\")\n",
    "    if a==3:\n",
    "        print(\"*      *\")\n",
    "    if a==4:\n",
    "        print(\"********\")\n",
    "    if a==5:\n",
    "        print(\"*      *\")\n",
    "    if a==6:\n",
    "        print(\"*      *\")\n",
    "    if a==7:\n",
    "        print(\"*      * \")\n",
    "    a=a+1"
   ]
  },
  {
   "cell_type": "code",
   "execution_count": 2,
   "id": "380882b6",
   "metadata": {},
   "outputs": [
    {
     "name": "stdout",
     "output_type": "stream",
     "text": [
      "********\n",
      "   *    \n",
      "   *    \n",
      "   *    \n",
      "   *    \n",
      "   *    \n",
      "*********\n"
     ]
    }
   ],
   "source": [
    "a=1\n",
    "while a<=7:\n",
    "    if a==1:\n",
    "        print(\"********\")\n",
    "    if a==2:\n",
    "        print(\"   *    \")\n",
    "    if a==3:\n",
    "        print(\"   *    \")\n",
    "    if a==4:\n",
    "        print(\"   *    \")\n",
    "    if a==5:\n",
    "        print(\"   *    \")\n",
    "    if a==6:\n",
    "        print(\"   *    \")\n",
    "    if a==7:\n",
    "        print(\"*********\")\n",
    "    a=a+1"
   ]
  },
  {
   "cell_type": "code",
   "execution_count": 5,
   "id": "545dff6e",
   "metadata": {},
   "outputs": [
    {
     "name": "stdout",
     "output_type": "stream",
     "text": [
      "********\n",
      "    *    \n",
      "    *    \n",
      "    *    \n",
      "*   *    \n",
      "*   *    \n",
      "****\n"
     ]
    }
   ],
   "source": [
    "a=1\n",
    "while a<=7:\n",
    "    if a==1:\n",
    "        print(\"********\")\n",
    "    if a==2:\n",
    "        print(\"    *    \")\n",
    "    if a==3:\n",
    "        print(\"    *    \")\n",
    "    if a==4:\n",
    "        print(\"    *    \")\n",
    "    if a==5:\n",
    "        print(\"*   *    \")\n",
    "    if a==6:\n",
    "        print(\"*   *    \")\n",
    "    if a==7:\n",
    "        print(\"****\")\n",
    "    a=a+1"
   ]
  },
  {
   "cell_type": "code",
   "execution_count": 7,
   "id": "f41e7c87",
   "metadata": {},
   "outputs": [
    {
     "name": "stdout",
     "output_type": "stream",
     "text": [
      "*     *\n",
      "*    *\n",
      "*  * \n",
      "* *\n",
      "*    *   \n",
      "*      * \n",
      "*       *\n"
     ]
    }
   ],
   "source": [
    "a=1\n",
    "while a<=7:\n",
    "    if a==1:\n",
    "        print(\"*     *\")\n",
    "    if a==2:\n",
    "        print(\"*    *\")\n",
    "    if a==3:\n",
    "        print(\"*  * \")\n",
    "    if a==4:\n",
    "        print(\"* *\")\n",
    "    if a==5:\n",
    "        print(\"*    *   \")\n",
    "    if a==6:\n",
    "        print(\"*      * \")\n",
    "    if a==7:\n",
    "        print(\"*       *\")\n",
    "    a=a+1"
   ]
  },
  {
   "cell_type": "code",
   "execution_count": 8,
   "id": "756c2c90",
   "metadata": {},
   "outputs": [
    {
     "name": "stdout",
     "output_type": "stream",
     "text": [
      "*    \n",
      "*    \n",
      "*  \n",
      "* \n",
      "*       \n",
      "*       \n",
      "*******\n"
     ]
    }
   ],
   "source": [
    "a=1\n",
    "while a<=7:\n",
    "    if a==1:\n",
    "        print(\"*    \")\n",
    "    if a==2:\n",
    "        print(\"*    \")\n",
    "    if a==3:\n",
    "        print(\"*  \")\n",
    "    if a==4:\n",
    "        print(\"* \")\n",
    "    if a==5:\n",
    "        print(\"*       \")\n",
    "    if a==6:\n",
    "        print(\"*       \")\n",
    "    if a==7:\n",
    "        print(\"*******\")\n",
    "    a=a+1"
   ]
  },
  {
   "cell_type": "code",
   "execution_count": 22,
   "id": "df300c1f",
   "metadata": {},
   "outputs": [
    {
     "name": "stdout",
     "output_type": "stream",
     "text": [
      "*          *\n",
      "*  *    *  *\n",
      "*   **     *\n",
      "*   *      *\n",
      "*          *\n",
      "*          *\n",
      "*          *\n"
     ]
    }
   ],
   "source": [
    "a=1\n",
    "while a<=7:\n",
    "    if a==1:\n",
    "        print(\"*          *\")\n",
    "    if a==2:\n",
    "        print(\"*  *    *  *\")\n",
    "    if a==3:\n",
    "        print(\"*   **     *\")\n",
    "    if a==4:\n",
    "        print(\"*   *      *\")\n",
    "    if a==5:\n",
    "        print(\"*          *\")\n",
    "    if a==6:\n",
    "        print(\"*          *\")\n",
    "    if a==7:\n",
    "        print(\"*          *\")\n",
    "    a=a+1"
   ]
  },
  {
   "cell_type": "code",
   "execution_count": 26,
   "id": "09dc153e",
   "metadata": {},
   "outputs": [
    {
     "name": "stdout",
     "output_type": "stream",
     "text": [
      "*           *\n",
      "*  *        *\n",
      "*     *     *\n",
      "*      *    *\n",
      "*        *  *\n",
      "*         * *\n",
      "*           *\n"
     ]
    }
   ],
   "source": [
    "a=1\n",
    "while a<=7:\n",
    "    if a==1:\n",
    "        print(\"*           *\")\n",
    "    if a==2:\n",
    "        print(\"*  *        *\")\n",
    "    if a==3:\n",
    "        print(\"*     *     *\")\n",
    "    if a==4:\n",
    "        print(\"*      *    *\")\n",
    "    if a==5:\n",
    "        print(\"*        *  *\")\n",
    "    if a==6:\n",
    "        print(\"*         * *\")\n",
    "    if a==7:\n",
    "        print(\"*           *\")\n",
    "    a=a+1"
   ]
  },
  {
   "cell_type": "code",
   "execution_count": 51,
   "id": "5e958efe",
   "metadata": {},
   "outputs": [
    {
     "name": "stdout",
     "output_type": "stream",
     "text": [
      "   *   *\n",
      "*        *\n",
      "*         *\n",
      "*        *\n",
      "   *   *\n"
     ]
    }
   ],
   "source": [
    "a=1\n",
    "while a<=5:\n",
    "    if a==1:\n",
    "        print(\"   *   *\")\n",
    "    if a==2:\n",
    "        print( \"*        *\")\n",
    "    if a==3:\n",
    "        print(\"*         *\")\n",
    "    if a==4:\n",
    "        print(\"*        *\")\n",
    "    if a==5:\n",
    "        print(\"   *   *\")\n",
    "    \n",
    "    a=a+1"
   ]
  },
  {
   "cell_type": "code",
   "execution_count": 62,
   "id": "b55750f2",
   "metadata": {},
   "outputs": [
    {
     "name": "stdout",
     "output_type": "stream",
     "text": [
      "* * * * *\n",
      "*        *\n",
      "* * * * *\n",
      "*      \n",
      "*   \n",
      "*  \n"
     ]
    }
   ],
   "source": [
    "a=1\n",
    "while a<=6:\n",
    "    if a==1:\n",
    "        print(\"* * * * *\")\n",
    "    if a==2:\n",
    "        print(\"*        *\")\n",
    "    if a==3:\n",
    "        print(\"* * * * *\")\n",
    "    if a==4:\n",
    "        print(\"*      \")\n",
    "    if a==5:\n",
    "        print(\"*   \")\n",
    "    if a==6:\n",
    "        print(\"*  \")\n",
    "    a=a+1"
   ]
  },
  {
   "cell_type": "code",
   "execution_count": null,
   "id": "2cfe5c36",
   "metadata": {},
   "outputs": [],
   "source": []
  },
  {
   "cell_type": "code",
   "execution_count": 58,
   "id": "573a29ce",
   "metadata": {},
   "outputs": [
    {
     "name": "stdout",
     "output_type": "stream",
     "text": [
      "   *   *\n",
      "*        *\n",
      "*    *   *\n",
      "*      * *\n",
      "   *   *\n",
      "        ****  \n"
     ]
    }
   ],
   "source": [
    "a=1\n",
    "while a<=6:\n",
    "    if a==1:\n",
    "        print(\"   *   *\")\n",
    "    if a==2:\n",
    "        print( \"*        *\")\n",
    "    if a==3:\n",
    "        print(\"*    *   *\")\n",
    "    if a==4:\n",
    "        print(\"*      * *\")\n",
    "    if a==5:\n",
    "        print(\"   *   *\")\n",
    "    if a==6:\n",
    "        print(\"        ****  \")\n",
    "    a=a+1"
   ]
  },
  {
   "cell_type": "code",
   "execution_count": 68,
   "id": "276afcce",
   "metadata": {},
   "outputs": [
    {
     "name": "stdout",
     "output_type": "stream",
     "text": [
      "* * * * *\n",
      "*        *\n",
      "* * * * *\n",
      "*  * \n",
      "*    *  \n",
      "*      * \n"
     ]
    }
   ],
   "source": [
    "a=1\n",
    "while a<=6:\n",
    "    if a==1:\n",
    "        print(\"* * * * *\")\n",
    "    if a==2:\n",
    "        print(\"*        *\")\n",
    "    if a==3:\n",
    "        print(\"* * * * *\")\n",
    "    if a==4:\n",
    "        print(\"*  * \")\n",
    "    if a==5:\n",
    "        print(\"*    *  \")\n",
    "    if a==6:\n",
    "        print(\"*      * \")\n",
    "    a=a+1"
   ]
  },
  {
   "cell_type": "code",
   "execution_count": 98,
   "id": "ee63828c",
   "metadata": {},
   "outputs": [
    {
     "name": "stdout",
     "output_type": "stream",
     "text": [
      "* * * * * \n",
      "*           \n",
      "   *   \n",
      "      *   \n",
      "          *\n",
      "           * \n",
      "* * * * * \n"
     ]
    }
   ],
   "source": [
    "a=1\n",
    "while a<=7:\n",
    "    if a==1:\n",
    "        print(\"* * * * * \")\n",
    "    if a==2:\n",
    "        print(\"*           \")\n",
    "    if a==3:\n",
    "        print(\"   *   \")\n",
    "    if a==4: \n",
    "        print(\"      *   \")\n",
    "    if a==5:\n",
    "        print(\"          *\")\n",
    "    if a==6:\n",
    "        print(\"           * \")\n",
    "    if a==7:\n",
    "        print(\"* * * * * \")\n",
    "    a=a+1"
   ]
  },
  {
   "cell_type": "code",
   "execution_count": 99,
   "id": "ea4a335d",
   "metadata": {},
   "outputs": [
    {
     "name": "stdout",
     "output_type": "stream",
     "text": [
      "********\n",
      "   *    \n",
      "   *    \n",
      "   *    \n",
      "   *    \n",
      "   *    \n",
      "       \n"
     ]
    }
   ],
   "source": [
    "a=1\n",
    "while a<=7:\n",
    "    if a==1:\n",
    "        print(\"********\")\n",
    "    if a==2:\n",
    "        print(\"   *    \")\n",
    "    if a==3:\n",
    "        print(\"   *    \")\n",
    "    if a==4:\n",
    "        print(\"   *    \")\n",
    "    if a==5:\n",
    "        print(\"   *    \")\n",
    "    if a==6:\n",
    "        print(\"   *    \")\n",
    "    if a==7:\n",
    "        print(\"       \")\n",
    "    a=a+1"
   ]
  },
  {
   "cell_type": "code",
   "execution_count": 100,
   "id": "43f8b59c",
   "metadata": {},
   "outputs": [
    {
     "name": "stdout",
     "output_type": "stream",
     "text": [
      "*      * \n",
      "*      * \n",
      "*      * \n",
      "*      * \n",
      "*      * \n",
      " *     * \n",
      "  * * *\n"
     ]
    }
   ],
   "source": [
    "a=1\n",
    "while a<=7:\n",
    "    if a==1:\n",
    "        print(\"*      * \")\n",
    "    if a==2:\n",
    "        print(\"*      * \")\n",
    "    if a==3:\n",
    "        print(\"*      * \")\n",
    "    if a==4:\n",
    "        print(\"*      * \")\n",
    "    if a==5:\n",
    "        print(\"*      * \")\n",
    "    if a==6:\n",
    "        print(\" *     * \")\n",
    "    if a==7:\n",
    "        print(\"  * * *\")\n",
    "    a=a+1"
   ]
  },
  {
   "cell_type": "code",
   "execution_count": 129,
   "id": "f95f4c1f",
   "metadata": {},
   "outputs": [
    {
     "name": "stdout",
     "output_type": "stream",
     "text": [
      "*           * \n",
      "*          * \n",
      "*         * \n",
      "*        * \n",
      "*       * \n",
      " *    * \n",
      "   *   \n"
     ]
    }
   ],
   "source": [
    "a=1\n",
    "while a<=7:\n",
    "    if a==1:\n",
    "        print(\"*           * \")\n",
    "    if a==2:\n",
    "        print(\"*          * \")\n",
    "    if a==3:\n",
    "        print(\"*         * \")\n",
    "    if a==4:\n",
    "        print(\"*        * \")\n",
    "    if a==5:\n",
    "        print(\"*       * \")\n",
    "    if a==6:\n",
    "        print(\" *    * \")\n",
    "    if a==7:\n",
    "        print(\"   *   \")\n",
    "    a=a+1"
   ]
  },
  {
   "cell_type": "code",
   "execution_count": 112,
   "id": "2c494a0e",
   "metadata": {},
   "outputs": [
    {
     "name": "stdout",
     "output_type": "stream",
     "text": [
      "*          *\n",
      "*          *\n",
      "*          *\n",
      "*          *\n",
      "*    *     *\n",
      "*  *   *   *\n",
      "*          *\n"
     ]
    }
   ],
   "source": [
    "a=1\n",
    "while a<=7:\n",
    "    if a==1:\n",
    "        print(\"*          *\")\n",
    "    if a==2: \n",
    "        print(\"*          *\")\n",
    "    if a==3: \n",
    "        print(\"*          *\")\n",
    "    if a==4:\n",
    "        print(\"*          *\")\n",
    "    if a==5:\n",
    "        print(\"*    *     *\")\n",
    "    if a==6:\n",
    "        print(\"*  *   *   *\")\n",
    "    if a==7:\n",
    "        print(\"*          *\")\n",
    "    a=a+1"
   ]
  },
  {
   "cell_type": "code",
   "execution_count": 120,
   "id": "40bee80f",
   "metadata": {},
   "outputs": [
    {
     "name": "stdout",
     "output_type": "stream",
     "text": [
      "*              *\n",
      " *          * \n",
      "   *    *   \n",
      "     *      \n",
      "   *   *   \n",
      " *        *\n",
      "*              *\n"
     ]
    }
   ],
   "source": [
    "a=1\n",
    "while a<=7:\n",
    "    if a==1:\n",
    "        print(\"*              *\")\n",
    "    if a==2: \n",
    "        print(\" *          * \")\n",
    "    if a==3: \n",
    "        print(\"   *    *   \")\n",
    "    if a==4:\n",
    "        print(\"     *      \")\n",
    "    if a==5:\n",
    "        print(\"   *   *   \")\n",
    "    if a==6:\n",
    "        print(\" *        *\")\n",
    "    if a==7:\n",
    "        print(\"*              *\")\n",
    "    a=a+1"
   ]
  },
  {
   "cell_type": "code",
   "execution_count": 121,
   "id": "2b7bda54",
   "metadata": {},
   "outputs": [
    {
     "name": "stdout",
     "output_type": "stream",
     "text": [
      "*              *\n",
      " *          * \n",
      "   *    *   \n",
      "     *      \n",
      "   *     \n",
      " *        \n",
      "*              \n"
     ]
    }
   ],
   "source": [
    "a=1\n",
    "while a<=7:\n",
    "    if a==1:\n",
    "        print(\"*              *\")\n",
    "    if a==2: \n",
    "        print(\" *          * \")\n",
    "    if a==3: \n",
    "        print(\"   *    *   \")\n",
    "    if a==4:\n",
    "        print(\"     *      \")\n",
    "    if a==5:\n",
    "        print(\"   *     \")\n",
    "    if a==6:\n",
    "        print(\" *        \")\n",
    "    if a==7:\n",
    "        print(\"*              \")\n",
    "    a=a+1"
   ]
  },
  {
   "cell_type": "code",
   "execution_count": 124,
   "id": "1c2592b5",
   "metadata": {},
   "outputs": [
    {
     "name": "stdout",
     "output_type": "stream",
     "text": [
      "* * * * *\n",
      "      *  \n",
      "    *    \n",
      "  *      \n",
      " *     \n",
      "*        \n",
      "* * * * *\n"
     ]
    }
   ],
   "source": [
    "a=1\n",
    "while a<=7:\n",
    "    if a==1:\n",
    "        print(\"* * * * *\")\n",
    "    if a==2: \n",
    "        print(\"      *  \")\n",
    "    if a==3: \n",
    "        print(\"    *    \")\n",
    "    if a==4:\n",
    "        print(\"  *      \")\n",
    "    if a==5:\n",
    "        print(\" *     \")\n",
    "    if a==6:\n",
    "        print(\"*        \")\n",
    "    if a==7:\n",
    "        print(\"* * * * *\")\n",
    "    a=a+1"
   ]
  },
  {
   "cell_type": "code",
   "execution_count": null,
   "id": "4a59504c",
   "metadata": {},
   "outputs": [],
   "source": []
  }
 ],
 "metadata": {
  "kernelspec": {
   "display_name": "Python 3 (ipykernel)",
   "language": "python",
   "name": "python3"
  },
  "language_info": {
   "codemirror_mode": {
    "name": "ipython",
    "version": 3
   },
   "file_extension": ".py",
   "mimetype": "text/x-python",
   "name": "python",
   "nbconvert_exporter": "python",
   "pygments_lexer": "ipython3",
   "version": "3.9.13"
  }
 },
 "nbformat": 4,
 "nbformat_minor": 5
}
